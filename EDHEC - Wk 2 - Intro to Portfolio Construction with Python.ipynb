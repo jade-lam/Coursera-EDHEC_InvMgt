{
  "nbformat": 4,
  "nbformat_minor": 0,
  "metadata": {
    "colab": {
      "name": "EDHEC - Wk 2 - Intro to Portfolio Construction with Python.ipynb",
      "provenance": [],
      "collapsed_sections": [],
      "authorship_tag": "ABX9TyO+Qa29mMYUAf1uSwjduQgC"
    },
    "kernelspec": {
      "name": "python3",
      "display_name": "Python 3"
    },
    "language_info": {
      "name": "python"
    }
  },
  "cells": [
    {
      "cell_type": "code",
      "execution_count": 1,
      "metadata": {
        "id": "cdIBPn1oKxtc"
      },
      "outputs": [],
      "source": [
        "import pandas as pd\n",
        "import numpy as np\n",
        "import matplotlib.pyplot as plt\n",
        "import scipy"
      ]
    },
    {
      "cell_type": "code",
      "source": [
        "from google.colab import drive\n",
        "drive.mount('/content/drive')"
      ],
      "metadata": {
        "colab": {
          "base_uri": "https://localhost:8080/"
        },
        "id": "EZwJg0SNMjOI",
        "outputId": "cd85c5a6-ce27-431a-8bbb-0480e8cf9e9a"
      },
      "execution_count": 2,
      "outputs": [
        {
          "output_type": "stream",
          "name": "stdout",
          "text": [
            "Drive already mounted at /content/drive; to attempt to forcibly remount, call drive.mount(\"/content/drive\", force_remount=True).\n"
          ]
        }
      ]
    },
    {
      "cell_type": "code",
      "source": [
        "# handles loading tool kit in .py format from another notebook\n",
        "import sys\n",
        "import os\n",
        "sys.path.append('/content/drive/MyDrive/Colab Notebooks/Coursera - EDHEC - Intro to Portfolio Construction with Python/')"
      ],
      "metadata": {
        "id": "S3S2ILRmPuIl"
      },
      "execution_count": 3,
      "outputs": []
    },
    {
      "cell_type": "markdown",
      "source": [
        "**1) The Efficient Frontier**"
      ],
      "metadata": {
        "id": "AS1fyvhgMt2k"
      }
    },
    {
      "cell_type": "code",
      "source": [
        "path = '/content/drive/MyDrive/Colab Notebooks/Coursera - EDHEC - Intro to Portfolio Construction with Python/ind30_m_ew_rets.csv'"
      ],
      "metadata": {
        "id": "lAkK-1ALMzP5"
      },
      "execution_count": 4,
      "outputs": []
    },
    {
      "cell_type": "code",
      "source": [
        "ind = pd.read_csv(path, header=0, index_col=0, parse_dates=True)/100\n",
        "ind.index = pd.to_datetime(ind.index, format='%Y%m').to_period('M')"
      ],
      "metadata": {
        "id": "6gERscbLM7nl"
      },
      "execution_count": 5,
      "outputs": []
    },
    {
      "cell_type": "code",
      "source": [
        "ind.head(3)"
      ],
      "metadata": {
        "colab": {
          "base_uri": "https://localhost:8080/",
          "height": 289
        },
        "id": "pg-AGc5CNd_J",
        "outputId": "922cd452-d533-476a-e1f2-40cd4ead1ce9"
      },
      "execution_count": 6,
      "outputs": [
        {
          "output_type": "execute_result",
          "data": {
            "text/html": [
              "\n",
              "  <div id=\"df-21334d8e-01b9-4c00-9ce0-05ff3b74a30e\">\n",
              "    <div class=\"colab-df-container\">\n",
              "      <div>\n",
              "<style scoped>\n",
              "    .dataframe tbody tr th:only-of-type {\n",
              "        vertical-align: middle;\n",
              "    }\n",
              "\n",
              "    .dataframe tbody tr th {\n",
              "        vertical-align: top;\n",
              "    }\n",
              "\n",
              "    .dataframe thead th {\n",
              "        text-align: right;\n",
              "    }\n",
              "</style>\n",
              "<table border=\"1\" class=\"dataframe\">\n",
              "  <thead>\n",
              "    <tr style=\"text-align: right;\">\n",
              "      <th></th>\n",
              "      <th>Food</th>\n",
              "      <th>Beer</th>\n",
              "      <th>Smoke</th>\n",
              "      <th>Games</th>\n",
              "      <th>Books</th>\n",
              "      <th>Hshld</th>\n",
              "      <th>Clths</th>\n",
              "      <th>Hlth</th>\n",
              "      <th>Chems</th>\n",
              "      <th>Txtls</th>\n",
              "      <th>...</th>\n",
              "      <th>Telcm</th>\n",
              "      <th>Servs</th>\n",
              "      <th>BusEq</th>\n",
              "      <th>Paper</th>\n",
              "      <th>Trans</th>\n",
              "      <th>Whlsl</th>\n",
              "      <th>Rtail</th>\n",
              "      <th>Meals</th>\n",
              "      <th>Fin</th>\n",
              "      <th>Other</th>\n",
              "    </tr>\n",
              "  </thead>\n",
              "  <tbody>\n",
              "    <tr>\n",
              "      <th>1926-07</th>\n",
              "      <td>0.0086</td>\n",
              "      <td>-0.0536</td>\n",
              "      <td>0.0167</td>\n",
              "      <td>0.0231</td>\n",
              "      <td>0.2628</td>\n",
              "      <td>0.0245</td>\n",
              "      <td>-0.0068</td>\n",
              "      <td>0.0245</td>\n",
              "      <td>0.0101</td>\n",
              "      <td>0.0044</td>\n",
              "      <td>...</td>\n",
              "      <td>0.0131</td>\n",
              "      <td>0.0776</td>\n",
              "      <td>0.0313</td>\n",
              "      <td>0.0129</td>\n",
              "      <td>-0.0089</td>\n",
              "      <td>-0.2023</td>\n",
              "      <td>0.0178</td>\n",
              "      <td>0.0169</td>\n",
              "      <td>0.0044</td>\n",
              "      <td>0.0261</td>\n",
              "    </tr>\n",
              "    <tr>\n",
              "      <th>1926-08</th>\n",
              "      <td>0.0370</td>\n",
              "      <td>0.1925</td>\n",
              "      <td>0.0501</td>\n",
              "      <td>0.0253</td>\n",
              "      <td>0.2118</td>\n",
              "      <td>-0.0286</td>\n",
              "      <td>0.0479</td>\n",
              "      <td>0.0611</td>\n",
              "      <td>0.0302</td>\n",
              "      <td>0.0431</td>\n",
              "      <td>...</td>\n",
              "      <td>0.0108</td>\n",
              "      <td>0.0420</td>\n",
              "      <td>0.0120</td>\n",
              "      <td>0.0400</td>\n",
              "      <td>0.0513</td>\n",
              "      <td>0.0942</td>\n",
              "      <td>-0.0045</td>\n",
              "      <td>-0.0090</td>\n",
              "      <td>0.0884</td>\n",
              "      <td>0.0348</td>\n",
              "    </tr>\n",
              "    <tr>\n",
              "      <th>1926-09</th>\n",
              "      <td>0.0138</td>\n",
              "      <td>0.0563</td>\n",
              "      <td>0.0310</td>\n",
              "      <td>0.0413</td>\n",
              "      <td>-0.0204</td>\n",
              "      <td>0.0176</td>\n",
              "      <td>-0.0616</td>\n",
              "      <td>0.0080</td>\n",
              "      <td>0.0240</td>\n",
              "      <td>-0.0409</td>\n",
              "      <td>...</td>\n",
              "      <td>0.0022</td>\n",
              "      <td>-0.0628</td>\n",
              "      <td>-0.0089</td>\n",
              "      <td>-0.0664</td>\n",
              "      <td>-0.0028</td>\n",
              "      <td>0.0032</td>\n",
              "      <td>-0.0087</td>\n",
              "      <td>-0.0014</td>\n",
              "      <td>-0.0255</td>\n",
              "      <td>-0.0018</td>\n",
              "    </tr>\n",
              "  </tbody>\n",
              "</table>\n",
              "<p>3 rows × 30 columns</p>\n",
              "</div>\n",
              "      <button class=\"colab-df-convert\" onclick=\"convertToInteractive('df-21334d8e-01b9-4c00-9ce0-05ff3b74a30e')\"\n",
              "              title=\"Convert this dataframe to an interactive table.\"\n",
              "              style=\"display:none;\">\n",
              "        \n",
              "  <svg xmlns=\"http://www.w3.org/2000/svg\" height=\"24px\"viewBox=\"0 0 24 24\"\n",
              "       width=\"24px\">\n",
              "    <path d=\"M0 0h24v24H0V0z\" fill=\"none\"/>\n",
              "    <path d=\"M18.56 5.44l.94 2.06.94-2.06 2.06-.94-2.06-.94-.94-2.06-.94 2.06-2.06.94zm-11 1L8.5 8.5l.94-2.06 2.06-.94-2.06-.94L8.5 2.5l-.94 2.06-2.06.94zm10 10l.94 2.06.94-2.06 2.06-.94-2.06-.94-.94-2.06-.94 2.06-2.06.94z\"/><path d=\"M17.41 7.96l-1.37-1.37c-.4-.4-.92-.59-1.43-.59-.52 0-1.04.2-1.43.59L10.3 9.45l-7.72 7.72c-.78.78-.78 2.05 0 2.83L4 21.41c.39.39.9.59 1.41.59.51 0 1.02-.2 1.41-.59l7.78-7.78 2.81-2.81c.8-.78.8-2.07 0-2.86zM5.41 20L4 18.59l7.72-7.72 1.47 1.35L5.41 20z\"/>\n",
              "  </svg>\n",
              "      </button>\n",
              "      \n",
              "  <style>\n",
              "    .colab-df-container {\n",
              "      display:flex;\n",
              "      flex-wrap:wrap;\n",
              "      gap: 12px;\n",
              "    }\n",
              "\n",
              "    .colab-df-convert {\n",
              "      background-color: #E8F0FE;\n",
              "      border: none;\n",
              "      border-radius: 50%;\n",
              "      cursor: pointer;\n",
              "      display: none;\n",
              "      fill: #1967D2;\n",
              "      height: 32px;\n",
              "      padding: 0 0 0 0;\n",
              "      width: 32px;\n",
              "    }\n",
              "\n",
              "    .colab-df-convert:hover {\n",
              "      background-color: #E2EBFA;\n",
              "      box-shadow: 0px 1px 2px rgba(60, 64, 67, 0.3), 0px 1px 3px 1px rgba(60, 64, 67, 0.15);\n",
              "      fill: #174EA6;\n",
              "    }\n",
              "\n",
              "    [theme=dark] .colab-df-convert {\n",
              "      background-color: #3B4455;\n",
              "      fill: #D2E3FC;\n",
              "    }\n",
              "\n",
              "    [theme=dark] .colab-df-convert:hover {\n",
              "      background-color: #434B5C;\n",
              "      box-shadow: 0px 1px 3px 1px rgba(0, 0, 0, 0.15);\n",
              "      filter: drop-shadow(0px 1px 2px rgba(0, 0, 0, 0.3));\n",
              "      fill: #FFFFFF;\n",
              "    }\n",
              "  </style>\n",
              "\n",
              "      <script>\n",
              "        const buttonEl =\n",
              "          document.querySelector('#df-21334d8e-01b9-4c00-9ce0-05ff3b74a30e button.colab-df-convert');\n",
              "        buttonEl.style.display =\n",
              "          google.colab.kernel.accessAllowed ? 'block' : 'none';\n",
              "\n",
              "        async function convertToInteractive(key) {\n",
              "          const element = document.querySelector('#df-21334d8e-01b9-4c00-9ce0-05ff3b74a30e');\n",
              "          const dataTable =\n",
              "            await google.colab.kernel.invokeFunction('convertToInteractive',\n",
              "                                                     [key], {});\n",
              "          if (!dataTable) return;\n",
              "\n",
              "          const docLinkHtml = 'Like what you see? Visit the ' +\n",
              "            '<a target=\"_blank\" href=https://colab.research.google.com/notebooks/data_table.ipynb>data table notebook</a>'\n",
              "            + ' to learn more about interactive tables.';\n",
              "          element.innerHTML = '';\n",
              "          dataTable['output_type'] = 'display_data';\n",
              "          await google.colab.output.renderOutput(dataTable, element);\n",
              "          const docLink = document.createElement('div');\n",
              "          docLink.innerHTML = docLinkHtml;\n",
              "          element.appendChild(docLink);\n",
              "        }\n",
              "      </script>\n",
              "    </div>\n",
              "  </div>\n",
              "  "
            ],
            "text/plain": [
              "          Food    Beer    Smoke   Games   Books   Hshld   Clths   Hlth   \\\n",
              "1926-07  0.0086 -0.0536  0.0167  0.0231  0.2628  0.0245 -0.0068  0.0245   \n",
              "1926-08  0.0370  0.1925  0.0501  0.0253  0.2118 -0.0286  0.0479  0.0611   \n",
              "1926-09  0.0138  0.0563  0.0310  0.0413 -0.0204  0.0176 -0.0616  0.0080   \n",
              "\n",
              "          Chems   Txtls  ...   Telcm   Servs   BusEq   Paper   Trans   Whlsl  \\\n",
              "1926-07  0.0101  0.0044  ...  0.0131  0.0776  0.0313  0.0129 -0.0089 -0.2023   \n",
              "1926-08  0.0302  0.0431  ...  0.0108  0.0420  0.0120  0.0400  0.0513  0.0942   \n",
              "1926-09  0.0240 -0.0409  ...  0.0022 -0.0628 -0.0089 -0.0664 -0.0028  0.0032   \n",
              "\n",
              "          Rtail   Meals   Fin     Other  \n",
              "1926-07  0.0178  0.0169  0.0044  0.0261  \n",
              "1926-08 -0.0045 -0.0090  0.0884  0.0348  \n",
              "1926-09 -0.0087 -0.0014 -0.0255 -0.0018  \n",
              "\n",
              "[3 rows x 30 columns]"
            ]
          },
          "metadata": {},
          "execution_count": 6
        }
      ]
    },
    {
      "cell_type": "code",
      "source": [
        "ind.columns #there are embedded space in the column header names"
      ],
      "metadata": {
        "colab": {
          "base_uri": "https://localhost:8080/"
        },
        "id": "A4uG2fYON31q",
        "outputId": "ec494d6e-c3bf-4924-d987-9c0e5d6f4c0c"
      },
      "execution_count": 7,
      "outputs": [
        {
          "output_type": "execute_result",
          "data": {
            "text/plain": [
              "Index(['Food ', 'Beer ', 'Smoke', 'Games', 'Books', 'Hshld', 'Clths', 'Hlth ',\n",
              "       'Chems', 'Txtls', 'Cnstr', 'Steel', 'FabPr', 'ElcEq', 'Autos', 'Carry',\n",
              "       'Mines', 'Coal ', 'Oil  ', 'Util ', 'Telcm', 'Servs', 'BusEq', 'Paper',\n",
              "       'Trans', 'Whlsl', 'Rtail', 'Meals', 'Fin  ', 'Other'],\n",
              "      dtype='object')"
            ]
          },
          "metadata": {},
          "execution_count": 7
        }
      ]
    },
    {
      "cell_type": "code",
      "source": [
        "ind.columns = ind.columns.str.strip()"
      ],
      "metadata": {
        "id": "21mykppyN_lo"
      },
      "execution_count": 8,
      "outputs": []
    },
    {
      "cell_type": "code",
      "source": [
        "def get_ind_returns():\n",
        "  ind = pd.read_csv('/content/drive/MyDrive/Colab Notebooks/Coursera - EDHEC - Intro to Portfolio Construction with Python/ind30_m_vw_rets.csv',\n",
        "                    header=0, index_col=0, parse_dates=True)/100\n",
        "  ind.index = pd.to_datetime(ind.index, format='%Y%m').to_period('M')\n",
        "  ind.columns = ind.columns.str.strip()\n",
        "  return ind"
      ],
      "metadata": {
        "id": "1pbaWv4MOfsp"
      },
      "execution_count": 9,
      "outputs": []
    },
    {
      "cell_type": "code",
      "source": [
        "#Refresh\n",
        "%load_ext autoreload\n",
        "%autoreload 2\n",
        "%matplotlib inline"
      ],
      "metadata": {
        "id": "FrPZhjGuPMhi"
      },
      "execution_count": 10,
      "outputs": []
    },
    {
      "cell_type": "code",
      "source": [
        "import edhec_risk_kit as erk"
      ],
      "metadata": {
        "id": "aA_ch6ZsR3N1"
      },
      "execution_count": 11,
      "outputs": []
    },
    {
      "cell_type": "code",
      "source": [
        "ind = erk.get_ind_returns()\n",
        "ind.shape"
      ],
      "metadata": {
        "colab": {
          "base_uri": "https://localhost:8080/"
        },
        "id": "Gdxcet3IP5v4",
        "outputId": "b3954d3a-6a36-442b-c81e-83c5576e83ce"
      },
      "execution_count": 12,
      "outputs": [
        {
          "output_type": "execute_result",
          "data": {
            "text/plain": [
              "(1110, 30)"
            ]
          },
          "metadata": {},
          "execution_count": 12
        }
      ]
    },
    {
      "cell_type": "code",
      "source": [
        "erk.drawdown(ind['Food'])['Drawdowns'].plot.line(figsize=(12,4))"
      ],
      "metadata": {
        "colab": {
          "base_uri": "https://localhost:8080/",
          "height": 283
        },
        "id": "HhYexWuAQCVe",
        "outputId": "f17912b7-7f68-4153-a7a6-dba25980bc2e"
      },
      "execution_count": 13,
      "outputs": [
        {
          "output_type": "execute_result",
          "data": {
            "text/plain": [
              "<matplotlib.axes._subplots.AxesSubplot at 0x7f71bc4fb8d0>"
            ]
          },
          "metadata": {},
          "execution_count": 13
        },
        {
          "output_type": "display_data",
          "data": {
            "image/png": "[encoded data removed]",
            "text/plain": [
              "<Figure size 864x288 with 1 Axes>"
            ]
          },
          "metadata": {
            "needs_background": "light"
          }
        }
      ]
    },
    {
      "cell_type": "code",
      "source": [
        "erk.var_gaussian(ind[['Food', 'Smoke', 'Coal', 'Beer', 'Fin']], modified=True)"
      ],
      "metadata": {
        "colab": {
          "base_uri": "https://localhost:8080/"
        },
        "id": "3Wl8-J1qQaP7",
        "outputId": "3c78b87c-e5b0-449c-b22f-61b6c4a2a1e5"
      },
      "execution_count": 14,
      "outputs": [
        {
          "output_type": "execute_result",
          "data": {
            "text/plain": [
              "Food     0.061207\n",
              "Smoke    0.080292\n",
              "Coal     0.047359\n",
              "Beer     0.033881\n",
              "Fin      0.075199\n",
              "dtype: float64"
            ]
          },
          "metadata": {},
          "execution_count": 14
        }
      ]
    },
    {
      "cell_type": "code",
      "source": [
        "erk.var_gaussian(ind, modified=True).sort_values().plot.bar(figsize=(12, 4))"
      ],
      "metadata": {
        "id": "5r5faPReSC1d",
        "colab": {
          "base_uri": "https://localhost:8080/",
          "height": 307
        },
        "outputId": "d1123471-933d-48d1-b374-fe3c7bd7907b"
      },
      "execution_count": 15,
      "outputs": [
        {
          "output_type": "execute_result",
          "data": {
            "text/plain": [
              "<matplotlib.axes._subplots.AxesSubplot at 0x7f71bc432e10>"
            ]
          },
          "metadata": {},
          "execution_count": 15
        },
        {
          "output_type": "display_data",
          "data": {
            "image/png": "[encoded data removed]",
            "text/plain": [
              "<Figure size 864x288 with 1 Axes>"
            ]
          },
          "metadata": {
            "needs_background": "light"
          }
        }
      ]
    },
    {
      "cell_type": "markdown",
      "source": [
        "Annualized return/ vol toolkit - "
      ],
      "metadata": {
        "id": "DGyg4-uLXszA"
      }
    },
    {
      "cell_type": "code",
      "source": [
        "def annualize_rets(r, periods_per_year):\n",
        "  # calculate annualized returns\n",
        "  compounded_growth = (1+r).prod()\n",
        "  n_periods = r.shape[0]\n",
        "  return compounded_growth**(periods_per_year/n_periods)-1"
      ],
      "metadata": {
        "id": "SIRNHDBlXOmY"
      },
      "execution_count": 16,
      "outputs": []
    },
    {
      "cell_type": "code",
      "source": [
        "def annualize_vol(r, periods_per_year):\n",
        "  #annualize vol for set of returns\n",
        "  return r.std()*(periods_per_year**0.5)"
      ],
      "metadata": {
        "id": "rulfxLASV_Vd"
      },
      "execution_count": 17,
      "outputs": []
    },
    {
      "cell_type": "code",
      "source": [
        "def sharpe_ratio(r, riskfree_rate, periods_per_year):\n",
        "  # convert the annual riskfree rate to per period, compute annualized sharpe ratio for set of returns\n",
        "  rf_per_period = (1+riskfree_rate)**(1/periods_per_year)-1\n",
        "  excess_ret = r - rf_per_period\n",
        "  ann_ex_ret = annualize_rets(excess_ret, periods_per_year)\n",
        "  ann_vol = annualize_vol(r, periods_per_year)\n",
        "  return ann_ex_ret/ann_vol"
      ],
      "metadata": {
        "id": "-dz3HIvfYKey"
      },
      "execution_count": 18,
      "outputs": []
    },
    {
      "cell_type": "code",
      "source": [
        "erk.sharpe_ratio(ind, 0.03, 12).sort_values().plot.bar(title='Ind Sharpe Ratios - 1926-2015', color='orange', figsize=(12, 4))"
      ],
      "metadata": {
        "colab": {
          "base_uri": "https://localhost:8080/",
          "height": 323
        },
        "id": "V4e7XNbBXr2o",
        "outputId": "1c7b0a8c-e5bb-4d25-d304-04a7196798a5"
      },
      "execution_count": 19,
      "outputs": [
        {
          "output_type": "execute_result",
          "data": {
            "text/plain": [
              "<matplotlib.axes._subplots.AxesSubplot at 0x7f71bbe30ad0>"
            ]
          },
          "metadata": {},
          "execution_count": 19
        },
        {
          "output_type": "display_data",
          "data": {
            "image/png": "[encoded data removed]",
            "text/plain": [
              "<Figure size 864x288 with 1 Axes>"
            ]
          },
          "metadata": {
            "needs_background": "light"
          }
        }
      ]
    },
    {
      "cell_type": "code",
      "source": [
        "erk.sharpe_ratio(ind['2000':], 0.03, 12).sort_values().plot.bar(title='Ind Sharpe Ratios - 1926-2015', color='goldenrod', figsize=(12, 4))"
      ],
      "metadata": {
        "colab": {
          "base_uri": "https://localhost:8080/",
          "height": 323
        },
        "id": "ncH7HZM8ZZTb",
        "outputId": "8b0e6aaf-a237-419a-96d0-a0178853a9bf"
      },
      "execution_count": 20,
      "outputs": [
        {
          "output_type": "execute_result",
          "data": {
            "text/plain": [
              "<matplotlib.axes._subplots.AxesSubplot at 0x7f71bbd9b110>"
            ]
          },
          "metadata": {},
          "execution_count": 20
        },
        {
          "output_type": "display_data",
          "data": {
            "image/png": "[encoded data removed]",
            "text/plain": [
              "<Figure size 864x288 with 1 Axes>"
            ]
          },
          "metadata": {
            "needs_background": "light"
          }
        }
      ]
    },
    {
      "cell_type": "code",
      "source": [
        "er = erk.annualize_rets(ind['1995':'2000'], 12)"
      ],
      "metadata": {
        "id": "dzwbSQvjZuG2"
      },
      "execution_count": 21,
      "outputs": []
    },
    {
      "cell_type": "code",
      "source": [
        "er.sort_values().plot.bar(figsize=(12,4))"
      ],
      "metadata": {
        "colab": {
          "base_uri": "https://localhost:8080/",
          "height": 307
        },
        "id": "0VoxLytiZ318",
        "outputId": "f5c6c4e3-edc0-4e4e-e2bd-e55152a0d280"
      },
      "execution_count": 22,
      "outputs": [
        {
          "output_type": "execute_result",
          "data": {
            "text/plain": [
              "<matplotlib.axes._subplots.AxesSubplot at 0x7f71bbca3510>"
            ]
          },
          "metadata": {},
          "execution_count": 22
        },
        {
          "output_type": "display_data",
          "data": {
            "image/png": "[encoded data removed]",
            "text/plain": [
              "<Figure size 864x288 with 1 Axes>"
            ]
          },
          "metadata": {
            "needs_background": "light"
          }
        }
      ]
    },
    {
      "cell_type": "code",
      "source": [
        "cov = ind['1995':'2000'].cov()\n",
        "cov.shape"
      ],
      "metadata": {
        "colab": {
          "base_uri": "https://localhost:8080/"
        },
        "id": "U9YWASytaEP9",
        "outputId": "417a9f85-3741-4595-969b-d739428a2e6f"
      },
      "execution_count": 23,
      "outputs": [
        {
          "output_type": "execute_result",
          "data": {
            "text/plain": [
              "(30, 30)"
            ]
          },
          "metadata": {},
          "execution_count": 23
        }
      ]
    },
    {
      "cell_type": "markdown",
      "source": [
        "Plotting the efficient frontier"
      ],
      "metadata": {
        "id": "h-dy7wZRrKlf"
      }
    },
    {
      "cell_type": "code",
      "source": [
        "ind = erk.get_ind_returns()\n",
        "er = erk.annualize_rets(ind['1996':'2000'], 12)\n",
        "cov = ind['1996':'2000'].cov()"
      ],
      "metadata": {
        "id": "nKO5fgy6rMEf"
      },
      "execution_count": 24,
      "outputs": []
    },
    {
      "cell_type": "code",
      "source": [
        "def portfolio_return(weights, returns):\n",
        "  # weights to returns\n",
        "  return weights.T @ returns "
      ],
      "metadata": {
        "id": "EsMw3maLrqpd"
      },
      "execution_count": 25,
      "outputs": []
    },
    {
      "cell_type": "code",
      "source": [
        "def portfolio_vol(weights, covmat):\n",
        "  # weights to vol\n",
        "  return (weights.T @ covmat @ weights)**0.5"
      ],
      "metadata": {
        "id": "Vy3QRYkEr8lO"
      },
      "execution_count": 26,
      "outputs": []
    },
    {
      "cell_type": "code",
      "source": [
        "l = ['Food', 'Beer', 'Smoke', 'Coal']\n",
        "er[l]"
      ],
      "metadata": {
        "colab": {
          "base_uri": "https://localhost:8080/"
        },
        "id": "LNa8sK8ysM0Z",
        "outputId": "077344d3-6ed3-48b8-a064-e0ddda842566"
      },
      "execution_count": 27,
      "outputs": [
        {
          "output_type": "execute_result",
          "data": {
            "text/plain": [
              "Food     0.116799\n",
              "Beer     0.141126\n",
              "Smoke    0.107830\n",
              "Coal     0.414689\n",
              "dtype: float64"
            ]
          },
          "metadata": {},
          "execution_count": 27
        }
      ]
    },
    {
      "cell_type": "code",
      "source": [
        "cov.loc[l, l]"
      ],
      "metadata": {
        "colab": {
          "base_uri": "https://localhost:8080/",
          "height": 175
        },
        "id": "lh_D2S00sW7a",
        "outputId": "8400b1f6-953a-485e-94a7-af730989b26b"
      },
      "execution_count": 28,
      "outputs": [
        {
          "output_type": "execute_result",
          "data": {
            "text/html": [
              "\n",
              "  <div id=\"df-effc032c-fd76-4c76-870a-16dddd3b96cd\">\n",
              "    <div class=\"colab-df-container\">\n",
              "      <div>\n",
              "<style scoped>\n",
              "    .dataframe tbody tr th:only-of-type {\n",
              "        vertical-align: middle;\n",
              "    }\n",
              "\n",
              "    .dataframe tbody tr th {\n",
              "        vertical-align: top;\n",
              "    }\n",
              "\n",
              "    .dataframe thead th {\n",
              "        text-align: right;\n",
              "    }\n",
              "</style>\n",
              "<table border=\"1\" class=\"dataframe\">\n",
              "  <thead>\n",
              "    <tr style=\"text-align: right;\">\n",
              "      <th></th>\n",
              "      <th>Food</th>\n",
              "      <th>Beer</th>\n",
              "      <th>Smoke</th>\n",
              "      <th>Coal</th>\n",
              "    </tr>\n",
              "  </thead>\n",
              "  <tbody>\n",
              "    <tr>\n",
              "      <th>Food</th>\n",
              "      <td>0.002609</td>\n",
              "      <td>0.002379</td>\n",
              "      <td>0.002061</td>\n",
              "      <td>0.000027</td>\n",
              "    </tr>\n",
              "    <tr>\n",
              "      <th>Beer</th>\n",
              "      <td>0.002379</td>\n",
              "      <td>0.005264</td>\n",
              "      <td>0.001359</td>\n",
              "      <td>0.001728</td>\n",
              "    </tr>\n",
              "    <tr>\n",
              "      <th>Smoke</th>\n",
              "      <td>0.002061</td>\n",
              "      <td>0.001359</td>\n",
              "      <td>0.008349</td>\n",
              "      <td>-0.000733</td>\n",
              "    </tr>\n",
              "    <tr>\n",
              "      <th>Coal</th>\n",
              "      <td>0.000027</td>\n",
              "      <td>0.001728</td>\n",
              "      <td>-0.000733</td>\n",
              "      <td>0.018641</td>\n",
              "    </tr>\n",
              "  </tbody>\n",
              "</table>\n",
              "</div>\n",
              "      <button class=\"colab-df-convert\" onclick=\"convertToInteractive('df-effc032c-fd76-4c76-870a-16dddd3b96cd')\"\n",
              "              title=\"Convert this dataframe to an interactive table.\"\n",
              "              style=\"display:none;\">\n",
              "        \n",
              "  <svg xmlns=\"http://www.w3.org/2000/svg\" height=\"24px\"viewBox=\"0 0 24 24\"\n",
              "       width=\"24px\">\n",
              "    <path d=\"M0 0h24v24H0V0z\" fill=\"none\"/>\n",
              "    <path d=\"M18.56 5.44l.94 2.06.94-2.06 2.06-.94-2.06-.94-.94-2.06-.94 2.06-2.06.94zm-11 1L8.5 8.5l.94-2.06 2.06-.94-2.06-.94L8.5 2.5l-.94 2.06-2.06.94zm10 10l.94 2.06.94-2.06 2.06-.94-2.06-.94-.94-2.06-.94 2.06-2.06.94z\"/><path d=\"M17.41 7.96l-1.37-1.37c-.4-.4-.92-.59-1.43-.59-.52 0-1.04.2-1.43.59L10.3 9.45l-7.72 7.72c-.78.78-.78 2.05 0 2.83L4 21.41c.39.39.9.59 1.41.59.51 0 1.02-.2 1.41-.59l7.78-7.78 2.81-2.81c.8-.78.8-2.07 0-2.86zM5.41 20L4 18.59l7.72-7.72 1.47 1.35L5.41 20z\"/>\n",
              "  </svg>\n",
              "      </button>\n",
              "      \n",
              "  <style>\n",
              "    .colab-df-container {\n",
              "      display:flex;\n",
              "      flex-wrap:wrap;\n",
              "      gap: 12px;\n",
              "    }\n",
              "\n",
              "    .colab-df-convert {\n",
              "      background-color: #E8F0FE;\n",
              "      border: none;\n",
              "      border-radius: 50%;\n",
              "      cursor: pointer;\n",
              "      display: none;\n",
              "      fill: #1967D2;\n",
              "      height: 32px;\n",
              "      padding: 0 0 0 0;\n",
              "      width: 32px;\n",
              "    }\n",
              "\n",
              "    .colab-df-convert:hover {\n",
              "      background-color: #E2EBFA;\n",
              "      box-shadow: 0px 1px 2px rgba(60, 64, 67, 0.3), 0px 1px 3px 1px rgba(60, 64, 67, 0.15);\n",
              "      fill: #174EA6;\n",
              "    }\n",
              "\n",
              "    [theme=dark] .colab-df-convert {\n",
              "      background-color: #3B4455;\n",
              "      fill: #D2E3FC;\n",
              "    }\n",
              "\n",
              "    [theme=dark] .colab-df-convert:hover {\n",
              "      background-color: #434B5C;\n",
              "      box-shadow: 0px 1px 3px 1px rgba(0, 0, 0, 0.15);\n",
              "      filter: drop-shadow(0px 1px 2px rgba(0, 0, 0, 0.3));\n",
              "      fill: #FFFFFF;\n",
              "    }\n",
              "  </style>\n",
              "\n",
              "      <script>\n",
              "        const buttonEl =\n",
              "          document.querySelector('#df-effc032c-fd76-4c76-870a-16dddd3b96cd button.colab-df-convert');\n",
              "        buttonEl.style.display =\n",
              "          google.colab.kernel.accessAllowed ? 'block' : 'none';\n",
              "\n",
              "        async function convertToInteractive(key) {\n",
              "          const element = document.querySelector('#df-effc032c-fd76-4c76-870a-16dddd3b96cd');\n",
              "          const dataTable =\n",
              "            await google.colab.kernel.invokeFunction('convertToInteractive',\n",
              "                                                     [key], {});\n",
              "          if (!dataTable) return;\n",
              "\n",
              "          const docLinkHtml = 'Like what you see? Visit the ' +\n",
              "            '<a target=\"_blank\" href=https://colab.research.google.com/notebooks/data_table.ipynb>data table notebook</a>'\n",
              "            + ' to learn more about interactive tables.';\n",
              "          element.innerHTML = '';\n",
              "          dataTable['output_type'] = 'display_data';\n",
              "          await google.colab.output.renderOutput(dataTable, element);\n",
              "          const docLink = document.createElement('div');\n",
              "          docLink.innerHTML = docLinkHtml;\n",
              "          element.appendChild(docLink);\n",
              "        }\n",
              "      </script>\n",
              "    </div>\n",
              "  </div>\n",
              "  "
            ],
            "text/plain": [
              "           Food      Beer     Smoke      Coal\n",
              "Food   0.002609  0.002379  0.002061  0.000027\n",
              "Beer   0.002379  0.005264  0.001359  0.001728\n",
              "Smoke  0.002061  0.001359  0.008349 -0.000733\n",
              "Coal   0.000027  0.001728 -0.000733  0.018641"
            ]
          },
          "metadata": {},
          "execution_count": 28
        }
      ]
    },
    {
      "cell_type": "code",
      "source": [
        "weights = np.repeat(1/4, 4)\n",
        "erk.portfolio_return(weights, er[l])"
      ],
      "metadata": {
        "colab": {
          "base_uri": "https://localhost:8080/"
        },
        "id": "tNtd7pa8tA5e",
        "outputId": "e8cc065b-f6c2-4ea3-94c5-51ce50f2a97c"
      },
      "execution_count": 29,
      "outputs": [
        {
          "output_type": "execute_result",
          "data": {
            "text/plain": [
              "0.19511097196038385"
            ]
          },
          "metadata": {},
          "execution_count": 29
        }
      ]
    },
    {
      "cell_type": "code",
      "source": [
        "erk.portfolio_vol(weights, cov.loc[l,l])"
      ],
      "metadata": {
        "colab": {
          "base_uri": "https://localhost:8080/"
        },
        "id": "VpyJxGDUtUXD",
        "outputId": "c4d7e85b-b81f-41ad-ca24-5c6deba47a4e"
      },
      "execution_count": 30,
      "outputs": [
        {
          "output_type": "execute_result",
          "data": {
            "text/plain": [
              "0.055059195776437045"
            ]
          },
          "metadata": {},
          "execution_count": 30
        }
      ]
    },
    {
      "cell_type": "markdown",
      "source": [
        "2 Asset Frontier"
      ],
      "metadata": {
        "id": "fPV-7w1NthyY"
      }
    },
    {
      "cell_type": "code",
      "source": [
        "#portfolio list - 2 asset\n",
        "l = ['Games', 'Fin']"
      ],
      "metadata": {
        "id": "Mu5DSNc0tipa"
      },
      "execution_count": 31,
      "outputs": []
    },
    {
      "cell_type": "code",
      "source": [
        "n_points = 20\n",
        "weights = [np.array([w, 1-w]) for w in np.linspace(0, 1, n_points) ] # 0.1, 0.9 - basically loop list comprehension"
      ],
      "metadata": {
        "id": "4i8disIUtvIb"
      },
      "execution_count": 32,
      "outputs": []
    },
    {
      "cell_type": "code",
      "source": [
        "rets = [erk.portfolio_return(w, er[l]) for w in weights]\n",
        "vols = [erk.portfolio_vol(w, cov.loc[l,l]) for w in weights] \n",
        "ef = pd.DataFrame({'R': rets, 'Vol': vols})\n",
        "ef.plot.scatter(x='Vol', y='R')"
      ],
      "metadata": {
        "colab": {
          "base_uri": "https://localhost:8080/",
          "height": 297
        },
        "id": "qWO_csAiutNi",
        "outputId": "6d69d920-6fd9-4752-9edd-5a6e96bad9e6"
      },
      "execution_count": 33,
      "outputs": [
        {
          "output_type": "execute_result",
          "data": {
            "text/plain": [
              "<matplotlib.axes._subplots.AxesSubplot at 0x7f71bbaefdd0>"
            ]
          },
          "metadata": {},
          "execution_count": 33
        },
        {
          "output_type": "display_data",
          "data": {
            "image/png": "[encoded data removed]",
            "text/plain": [
              "<Figure size 432x288 with 1 Axes>"
            ]
          },
          "metadata": {
            "needs_background": "light"
          }
        }
      ]
    },
    {
      "cell_type": "code",
      "source": [
        "def plot_ef2(n_points, er, cov):\n",
        "  #plot 2 asset efficient frontier \n",
        "  if er.shape[0] != 2 or er.shape[0] != 2:\n",
        "    raise ValueError(\"plot_ef2 can only plot 2-asset frontiers\")\n",
        "  weights = [np.array([w, 1-w]) for w in np.linspace(0, 1, n_points)]\n",
        "  rets = [portfolio_return(w, er) for w in weights]\n",
        "  vols = [portfolio_vol(w, cov) for w in weights]\n",
        "  ef = pd.DataFrame({\n",
        "    \"Returns\": rets, \n",
        "    \"Volatility\": vols\n",
        "    })\n",
        "  return ef.plot.line(x=\"Volatility\", y=\"Returns\", style=\".-\")"
      ],
      "metadata": {
        "id": "JE5CK6l0wA5x"
      },
      "execution_count": 34,
      "outputs": []
    },
    {
      "cell_type": "code",
      "source": [
        "l = ['Fin', 'Beer']\n",
        "erk.plot_ef2(25, er[l], cov.loc[l,l])"
      ],
      "metadata": {
        "colab": {
          "base_uri": "https://localhost:8080/",
          "height": 297
        },
        "id": "r253DAIuwkfP",
        "outputId": "de34d604-a614-41bb-f9ff-6f8d3a0efdcc"
      },
      "execution_count": 35,
      "outputs": [
        {
          "output_type": "execute_result",
          "data": {
            "text/plain": [
              "<matplotlib.axes._subplots.AxesSubplot at 0x7f71bbae38d0>"
            ]
          },
          "metadata": {},
          "execution_count": 35
        },
        {
          "output_type": "display_data",
          "data": {
            "image/png": "[encoded data removed]",
            "text/plain": [
              "<Figure size 432x288 with 1 Axes>"
            ]
          },
          "metadata": {
            "needs_background": "light"
          }
        }
      ]
    },
    {
      "cell_type": "markdown",
      "source": [
        "**N-Asset(s) Efficient Frontier**"
      ],
      "metadata": {
        "id": "2vYqEZVsxXxh"
      }
    },
    {
      "cell_type": "code",
      "source": [
        "from scipy.optimize import minimize"
      ],
      "metadata": {
        "id": "DPTBPFQCxawT"
      },
      "execution_count": 36,
      "outputs": []
    },
    {
      "cell_type": "code",
      "source": [
        "def minimize_vol(target_return, er, cov):\n",
        "  # get target return to weights\n",
        "  n = er.shape[0]\n",
        "  init_guess = np.repeat(1/n, n)\n",
        "  bounds = ((0.0, 1.0),)*n #put a tuple of tuples\n",
        "  return_is_target = {\n",
        "      'type'  : 'eq',\n",
        "      'args'  : (er, ),\n",
        "      'fun'   : lambda weights, er: target_return - erk.portfolio_return(weights, er)\n",
        "  }\n",
        "  weights_sum_to_1= {\n",
        "      'type'  : 'eq',\n",
        "      'fun'   : lambda weights: np.sum(weights) -1\n",
        "  }\n",
        "  results = minimize(erk.portfolio_vol, init_guess,\n",
        "                     args=(cov,), method='SLSQP',\n",
        "                     options={'disp': False},\n",
        "                     constraints=(return_is_target, weights_sum_to_1),\n",
        "                     bounds=bounds)\n",
        "  return results.x"
      ],
      "metadata": {
        "id": "VQbBayu-ykMw"
      },
      "execution_count": 44,
      "outputs": []
    },
    {
      "cell_type": "code",
      "source": [
        "l = ['Games', 'Fin']"
      ],
      "metadata": {
        "id": "AHiE_wP7VHIK"
      },
      "execution_count": 47,
      "outputs": []
    },
    {
      "cell_type": "code",
      "source": [
        "w15 = erk.minimize_vol(0.15, er[l], cov.loc[l,l])\n",
        "vol15 = erk.portfolio_vol(w15, cov.loc[l,l])\n",
        "vol15"
      ],
      "metadata": {
        "colab": {
          "base_uri": "https://localhost:8080/"
        },
        "id": "oeBQ-GzHUhLL",
        "outputId": "37372565-d728-4f48-887b-cde17f121077"
      },
      "execution_count": 51,
      "outputs": [
        {
          "output_type": "execute_result",
          "data": {
            "text/plain": [
              "0.056163669406706564"
            ]
          },
          "metadata": {},
          "execution_count": 51
        }
      ]
    },
    {
      "cell_type": "code",
      "source": [
        "w15 # asset allocation weights"
      ],
      "metadata": {
        "colab": {
          "base_uri": "https://localhost:8080/"
        },
        "id": "pBntIgVEVRaa",
        "outputId": "8144b8c2-bfac-4af5-d450-8335c2758052"
      },
      "execution_count": 49,
      "outputs": [
        {
          "output_type": "execute_result",
          "data": {
            "text/plain": [
              "array([0.47287631, 0.52712369])"
            ]
          },
          "metadata": {},
          "execution_count": 49
        }
      ]
    },
    {
      "cell_type": "code",
      "source": [
        "def optimal_weights(n_points, er, cov):\n",
        "    \"\"\"\n",
        "    Returns a list of weights that represent a grid of n_points on the efficient frontier\n",
        "    \"\"\"\n",
        "    target_rs = np.linspace(er.min(), er.max(), n_points)\n",
        "    weights = [minimize_vol(target_return, er, cov) for target_return in target_rs]\n",
        "    return weights\n",
        "\n",
        "def plot_ef(n_points, er, cov, style='.-', legend=False, show_cml=False, riskfree_rate=0, show_ew=False, show_gmv=False):\n",
        "    \"\"\"\n",
        "    Plots the multi-asset efficient frontier\n",
        "    \"\"\"\n",
        "    weights = optimal_weights(n_points, er, cov)\n",
        "    rets = [erk.portfolio_return(w, er) for w in weights]\n",
        "    vols = [erk.portfolio_vol(w, cov) for w in weights]\n",
        "    ef = pd.DataFrame({\n",
        "        \"Returns\": rets, \n",
        "        \"Volatility\": vols\n",
        "    })\n",
        "    return ef.plot.line(x='Volatility', y='Returns', style='.-')"
      ],
      "metadata": {
        "id": "q2kuICtNXNwi"
      },
      "execution_count": 54,
      "outputs": []
    },
    {
      "cell_type": "code",
      "source": [
        "l = ['Smoke', 'Fin', 'Games', 'Coal']\n",
        "erk.plot_ef(25, er[l], cov.loc[l,l])"
      ],
      "metadata": {
        "colab": {
          "base_uri": "https://localhost:8080/",
          "height": 297
        },
        "id": "Mv9ExKpPXw-o",
        "outputId": "ec64e4c1-16a6-4e0d-a9be-b588188ddfad"
      },
      "execution_count": 56,
      "outputs": [
        {
          "output_type": "execute_result",
          "data": {
            "text/plain": [
              "<matplotlib.axes._subplots.AxesSubplot at 0x7f71bbd6ec50>"
            ]
          },
          "metadata": {},
          "execution_count": 56
        },
        {
          "output_type": "display_data",
          "data": {
            "image/png": "[encoded data removed]",
            "text/plain": [
              "<Figure size 432x288 with 1 Axes>"
            ]
          },
          "metadata": {
            "needs_background": "light"
          }
        }
      ]
    }
  ]
}